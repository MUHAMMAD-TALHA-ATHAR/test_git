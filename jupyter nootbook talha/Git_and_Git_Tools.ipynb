{
 "cells": [
  {
   "cell_type": "markdown",
   "id": "fc90a9e2",
   "metadata": {},
   "source": [
    "# Git and Git tools"
   ]
  },
  {
   "cell_type": "markdown",
   "id": "97da8071",
   "metadata": {},
   "source": [
    "## Why learn Git?\n",
    "- Track project history"
   ]
  },
  {
   "cell_type": "markdown",
   "id": "3e4ab515",
   "metadata": {},
   "source": [
    "## Open-Source, Version Contol, Git and GitHub.\n",
    "### Open Source\n",
    "- Source code is **avaliable to the public**.\n",
    "- **Free to use.**\n",
    "- Regularly **maintained** by individuals.\n",
    "- Implementing new **features**.\n",
    "- **Fixing bugs.**\n",
    "\n",
    "### Version Control\n",
    "- Storing **versions of the same work** or project, which is collection of the changes(**history**) of the project(software).\n",
    "- Make it possible for the team to be able to **communicate the changes** they made when working on their designated part.\n",
    "- It can also serve as a **backup of the work** that was done.\n",
    "\n",
    "### Git\n",
    "  - Git is a high quality version control system.\n",
    "  - Developed in 2005.\n",
    "  - Git is install in your local system.\n",
    "\n",
    "### GitHub\n",
    "- Hosting service for Git repositories.\n",
    "- GitHub is a cloud based service.\n",
    "- Bitbucket, GitLab, etc."
   ]
  },
  {
   "cell_type": "markdown",
   "id": "f0e59ceb",
   "metadata": {},
   "source": [
    "## Git Workflow\n",
    "### Local\n",
    "- Working directory.\n",
    "- Staging area.\n",
    "- Local repository.\n",
    "\n",
    "### Remote\n",
    "- Remote repository."
   ]
  },
  {
   "cell_type": "code",
   "execution_count": null,
   "id": "a44b5c0f",
   "metadata": {},
   "outputs": [],
   "source": []
  }
 ],
 "metadata": {
  "kernelspec": {
   "display_name": "Python 3 (ipykernel)",
   "language": "python",
   "name": "python3"
  },
  "language_info": {
   "codemirror_mode": {
    "name": "ipython",
    "version": 3
   },
   "file_extension": ".py",
   "mimetype": "text/x-python",
   "name": "python",
   "nbconvert_exporter": "python",
   "pygments_lexer": "ipython3",
   "version": "3.9.12"
  }
 },
 "nbformat": 4,
 "nbformat_minor": 5
}
