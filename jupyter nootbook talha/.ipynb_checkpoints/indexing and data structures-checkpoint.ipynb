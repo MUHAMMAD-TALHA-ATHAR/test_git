{
 "cells": [
  {
   "cell_type": "markdown",
   "id": "b00fadb0",
   "metadata": {},
   "source": [
    "# Indexing"
   ]
  },
  {
   "cell_type": "code",
   "execution_count": 2,
   "id": "e5df4761",
   "metadata": {},
   "outputs": [
    {
     "data": {
      "text/plain": [
       "'Samosa Pakora'"
      ]
     },
     "execution_count": 2,
     "metadata": {},
     "output_type": "execute_result"
    }
   ],
   "source": [
    "# make a string\n",
    "a=\"Samosa Pakora\"\n",
    "a"
   ]
  },
  {
   "cell_type": "code",
   "execution_count": 3,
   "id": "33824e9f",
   "metadata": {},
   "outputs": [
    {
     "data": {
      "text/plain": [
       "'Samosa Pakora'"
      ]
     },
     "execution_count": 3,
     "metadata": {},
     "output_type": "execute_result"
    }
   ],
   "source": [
    "a"
   ]
  },
  {
   "cell_type": "code",
   "execution_count": 4,
   "id": "a96c4357",
   "metadata": {},
   "outputs": [
    {
     "data": {
      "text/plain": [
       "13"
      ]
     },
     "execution_count": 4,
     "metadata": {},
     "output_type": "execute_result"
    }
   ],
   "source": [
    "# Length of indexes\n",
    "len(a)"
   ]
  },
  {
   "cell_type": "code",
   "execution_count": 5,
   "id": "ce12dece",
   "metadata": {},
   "outputs": [
    {
     "data": {
      "text/plain": [
       "'S'"
      ]
     },
     "execution_count": 5,
     "metadata": {},
     "output_type": "execute_result"
    }
   ],
   "source": [
    "a[0]"
   ]
  },
  {
   "cell_type": "code",
   "execution_count": 6,
   "id": "faeb0239",
   "metadata": {},
   "outputs": [
    {
     "data": {
      "text/plain": [
       "'o'"
      ]
     },
     "execution_count": 6,
     "metadata": {},
     "output_type": "execute_result"
    }
   ],
   "source": [
    "a[3]"
   ]
  },
  {
   "cell_type": "code",
   "execution_count": 7,
   "id": "26d39637",
   "metadata": {},
   "outputs": [
    {
     "data": {
      "text/plain": [
       "'a'"
      ]
     },
     "execution_count": 7,
     "metadata": {},
     "output_type": "execute_result"
    }
   ],
   "source": [
    "a[12]"
   ]
  },
  {
   "cell_type": "code",
   "execution_count": 8,
   "id": "208e0cab",
   "metadata": {},
   "outputs": [
    {
     "data": {
      "text/plain": [
       "'Samosa'"
      ]
     },
     "execution_count": 8,
     "metadata": {},
     "output_type": "execute_result"
    }
   ],
   "source": [
    "# Last index is exclusive\n",
    "a[0:6]"
   ]
  },
  {
   "cell_type": "code",
   "execution_count": 9,
   "id": "8a5be469",
   "metadata": {},
   "outputs": [
    {
     "data": {
      "text/plain": [
       "'Samosa Pakora'"
      ]
     },
     "execution_count": 9,
     "metadata": {},
     "output_type": "execute_result"
    }
   ],
   "source": [
    "a[0:13]"
   ]
  },
  {
   "cell_type": "code",
   "execution_count": 10,
   "id": "613d04bc",
   "metadata": {},
   "outputs": [
    {
     "data": {
      "text/plain": [
       "'a'"
      ]
     },
     "execution_count": 10,
     "metadata": {},
     "output_type": "execute_result"
    }
   ],
   "source": [
    "a[-5]"
   ]
  },
  {
   "cell_type": "code",
   "execution_count": 11,
   "id": "087a51dc",
   "metadata": {},
   "outputs": [
    {
     "data": {
      "text/plain": [
       "'Pakora'"
      ]
     },
     "execution_count": 11,
     "metadata": {},
     "output_type": "execute_result"
    }
   ],
   "source": [
    "a[-6:13]"
   ]
  },
  {
   "cell_type": "code",
   "execution_count": 12,
   "id": "04ab7258",
   "metadata": {},
   "outputs": [
    {
     "data": {
      "text/plain": [
       "'Samosa P'"
      ]
     },
     "execution_count": 12,
     "metadata": {},
     "output_type": "execute_result"
    }
   ],
   "source": [
    "a[:8]"
   ]
  },
  {
   "cell_type": "code",
   "execution_count": 13,
   "id": "570a8a3c",
   "metadata": {},
   "outputs": [
    {
     "data": {
      "text/plain": [
       "'osa Pakora'"
      ]
     },
     "execution_count": 13,
     "metadata": {},
     "output_type": "execute_result"
    }
   ],
   "source": [
    "a[3:]"
   ]
  },
  {
   "cell_type": "code",
   "execution_count": 14,
   "id": "3b3c2fac",
   "metadata": {},
   "outputs": [
    {
     "data": {
      "text/plain": [
       "'a Pako'"
      ]
     },
     "execution_count": 14,
     "metadata": {},
     "output_type": "execute_result"
    }
   ],
   "source": [
    "a[-8:-2]"
   ]
  },
  {
   "cell_type": "markdown",
   "id": "b00326b6",
   "metadata": {},
   "source": [
    "---"
   ]
  },
  {
   "cell_type": "markdown",
   "id": "fd9fce42",
   "metadata": {},
   "source": [
    "# string methods"
   ]
  },
  {
   "cell_type": "code",
   "execution_count": 29,
   "id": "2a627f89",
   "metadata": {},
   "outputs": [
    {
     "data": {
      "text/plain": [
       "'burger'"
      ]
     },
     "execution_count": 29,
     "metadata": {},
     "output_type": "execute_result"
    }
   ],
   "source": [
    "food=\"burger\"\n",
    "food"
   ]
  },
  {
   "cell_type": "code",
   "execution_count": 33,
   "id": "56233bee",
   "metadata": {},
   "outputs": [
    {
     "data": {
      "text/plain": [
       "6"
      ]
     },
     "execution_count": 33,
     "metadata": {},
     "output_type": "execute_result"
    }
   ],
   "source": [
    "len(food)"
   ]
  },
  {
   "cell_type": "code",
   "execution_count": 37,
   "id": "12532f7c",
   "metadata": {},
   "outputs": [
    {
     "data": {
      "text/plain": [
       "'Burger'"
      ]
     },
     "execution_count": 37,
     "metadata": {},
     "output_type": "execute_result"
    }
   ],
   "source": [
    "#  capitalize every element\n",
    "food.capitalize()"
   ]
  },
  {
   "cell_type": "code",
   "execution_count": 36,
   "id": "866239e4",
   "metadata": {},
   "outputs": [
    {
     "data": {
      "text/plain": [
       "'BURGER'"
      ]
     },
     "execution_count": 36,
     "metadata": {},
     "output_type": "execute_result"
    }
   ],
   "source": [
    "# The upper() method returns the string in upper case:\n",
    "food.upper()"
   ]
  },
  {
   "cell_type": "code",
   "execution_count": 38,
   "id": "8410ad2e",
   "metadata": {},
   "outputs": [
    {
     "data": {
      "text/plain": [
       "'burger'"
      ]
     },
     "execution_count": 38,
     "metadata": {},
     "output_type": "execute_result"
    }
   ],
   "source": [
    "# The lower() method returns the string in lower case:\n",
    "food.lower()"
   ]
  },
  {
   "cell_type": "code",
   "execution_count": 39,
   "id": "4e2a4175",
   "metadata": {},
   "outputs": [
    {
     "data": {
      "text/plain": [
       "'Shurger'"
      ]
     },
     "execution_count": 39,
     "metadata": {},
     "output_type": "execute_result"
    }
   ],
   "source": [
    "# The replace() method replaces a string with another string:\n",
    "food.replace(\"b\",\"Sh\")"
   ]
  },
  {
   "cell_type": "code",
   "execution_count": 6,
   "id": "ebade8fe",
   "metadata": {},
   "outputs": [
    {
     "data": {
      "text/plain": [
       "' Hello, How are you? '"
      ]
     },
     "execution_count": 6,
     "metadata": {},
     "output_type": "execute_result"
    }
   ],
   "source": [
    "# counting a specific alphabet in a string\n",
    "name=\" Hello, How are you? \"\n",
    "name"
   ]
  },
  {
   "cell_type": "code",
   "execution_count": 7,
   "id": "245742d5",
   "metadata": {},
   "outputs": [
    {
     "data": {
      "text/plain": [
       "0"
      ]
     },
     "execution_count": 7,
     "metadata": {},
     "output_type": "execute_result"
    }
   ],
   "source": [
    "name.count(\"n\")"
   ]
  },
  {
   "cell_type": "code",
   "execution_count": 8,
   "id": "b3ed2bb3",
   "metadata": {},
   "outputs": [
    {
     "data": {
      "text/plain": [
       "'Hello, How are you?'"
      ]
     },
     "execution_count": 8,
     "metadata": {},
     "output_type": "execute_result"
    }
   ],
   "source": [
    "# The strip() method removes any whitespace from the beginning or the end:\n",
    "name.strip()"
   ]
  },
  {
   "cell_type": "code",
   "execution_count": 9,
   "id": "57ba7994",
   "metadata": {},
   "outputs": [
    {
     "data": {
      "text/plain": [
       "[' Hello', ' How are you? ']"
      ]
     },
     "execution_count": 9,
     "metadata": {},
     "output_type": "execute_result"
    }
   ],
   "source": [
    "# The split() method splits the string into substrings if it finds instances of the separator:\n",
    "name.split(\",\")"
   ]
  },
  {
   "cell_type": "code",
   "execution_count": 11,
   "id": "3f9e64c6",
   "metadata": {},
   "outputs": [
    {
     "name": "stdout",
     "output_type": "stream",
     "text": [
      "Enter Your nameAli\n",
      "Enter your age 19\n"
     ]
    },
    {
     "data": {
      "text/plain": [
       "'My name is Ali, I am 19 years old'"
      ]
     },
     "execution_count": 11,
     "metadata": {},
     "output_type": "execute_result"
    }
   ],
   "source": [
    "# Use the format() method to insert numbers into strings:\n",
    "name=input(\"Enter Your name\")\n",
    "age=int(input(\"Enter your age \"))\n",
    "txt=(\"My name is {}, I am {} years old\")\n",
    "txt.format(name,age)"
   ]
  },
  {
   "cell_type": "code",
   "execution_count": 10,
   "id": "a7c14381",
   "metadata": {},
   "outputs": [
    {
     "name": "stdout",
     "output_type": "stream",
     "text": [
      "Enter your age 19\n"
     ]
    },
    {
     "data": {
      "text/plain": [
       "'I am 19 year old'"
      ]
     },
     "execution_count": 10,
     "metadata": {},
     "output_type": "execute_result"
    }
   ],
   "source": [
    "# Another method of format\n",
    "age=int(input(\"Enter your age \"))\n",
    "txt=(f\"I am {age} year old\")\n",
    "about"
   ]
  },
  {
   "cell_type": "code",
   "execution_count": 19,
   "id": "dd16a938",
   "metadata": {},
   "outputs": [
    {
     "data": {
      "text/plain": [
       "'assalam o alaikum, my name is talha.'"
      ]
     },
     "execution_count": 19,
     "metadata": {},
     "output_type": "execute_result"
    }
   ],
   "source": [
    "# The casefold() method Converts string into lower case\n",
    "greeting=\"Assalam o alaikum, My name is Talha.\"\n",
    "greeting.casefold()"
   ]
  },
  {
   "cell_type": "code",
   "execution_count": 20,
   "id": "8ed36b8b",
   "metadata": {},
   "outputs": [
    {
     "data": {
      "text/plain": [
       "'                                Assalam o alaikum, My name is Talha.                                '"
      ]
     },
     "execution_count": 20,
     "metadata": {},
     "output_type": "execute_result"
    }
   ],
   "source": [
    "# The center() method will center align the string, using a specified character (space is default) as the fill character.\n",
    "greeting.center(100)"
   ]
  },
  {
   "cell_type": "code",
   "execution_count": 21,
   "id": "f335c1ac",
   "metadata": {},
   "outputs": [
    {
     "data": {
      "text/plain": [
       "'#######Assalam o alaikum, My name is Talha.#######'"
      ]
     },
     "execution_count": 21,
     "metadata": {},
     "output_type": "execute_result"
    }
   ],
   "source": [
    "# Using the letter \"#\" as the padding character  (You can use any other letter)\n",
    "greeting.center(50,\"#\")"
   ]
  },
  {
   "cell_type": "code",
   "execution_count": 22,
   "id": "066c37d4",
   "metadata": {},
   "outputs": [
    {
     "data": {
      "text/plain": [
       "True"
      ]
     },
     "execution_count": 22,
     "metadata": {},
     "output_type": "execute_result"
    }
   ],
   "source": [
    "# The endswith() method returns True if the string ends with the specified value, otherwise False.\n",
    "greeting.endswith(\".\")"
   ]
  },
  {
   "cell_type": "code",
   "execution_count": 24,
   "id": "c111cf4e",
   "metadata": {},
   "outputs": [
    {
     "data": {
      "text/plain": [
       "22"
      ]
     },
     "execution_count": 24,
     "metadata": {},
     "output_type": "execute_result"
    }
   ],
   "source": [
    "# The find() method finds the first occurrence of the specified value.\n",
    "# The find() method returns -1 if the value is not found.\n",
    "# The find() method is almost the same as the index() method, the only difference is that the index() method raises an exception if the value is not found.\n",
    "greeting.find(\"name\")"
   ]
  },
  {
   "cell_type": "code",
   "execution_count": 25,
   "id": "ea5c6986",
   "metadata": {},
   "outputs": [
    {
     "data": {
      "text/plain": [
       "8"
      ]
     },
     "execution_count": 25,
     "metadata": {},
     "output_type": "execute_result"
    }
   ],
   "source": [
    "# Searches the string for a specified value and returns the position of where it was found\n",
    "greeting.index(\"o\")"
   ]
  },
  {
   "cell_type": "markdown",
   "id": "e9e6e546",
   "metadata": {},
   "source": [
    " ### finding an index number in string"
   ]
  },
  {
   "cell_type": "code",
   "execution_count": 16,
   "id": "ce6b924e",
   "metadata": {},
   "outputs": [
    {
     "data": {
      "text/plain": [
       "'We are learning python'"
      ]
     },
     "execution_count": 16,
     "metadata": {},
     "output_type": "execute_result"
    }
   ],
   "source": [
    "name=\"We are learning python\"\n",
    "name"
   ]
  },
  {
   "cell_type": "code",
   "execution_count": 17,
   "id": "abbfdba2",
   "metadata": {},
   "outputs": [
    {
     "data": {
      "text/plain": [
       "11"
      ]
     },
     "execution_count": 17,
     "metadata": {},
     "output_type": "execute_result"
    }
   ],
   "source": [
    "name.find(\"n\")"
   ]
  },
  {
   "cell_type": "code",
   "execution_count": 18,
   "id": "d16c5222",
   "metadata": {},
   "outputs": [
    {
     "data": {
      "text/plain": [
       "'I love biryani, jaleebi, mangoes, burger'"
      ]
     },
     "execution_count": 18,
     "metadata": {},
     "output_type": "execute_result"
    }
   ],
   "source": [
    "### how to split a string \n",
    "food=\"I love biryani, jaleebi, mangoes, burger\"\n",
    "food"
   ]
  },
  {
   "cell_type": "code",
   "execution_count": 19,
   "id": "8c20a560",
   "metadata": {},
   "outputs": [
    {
     "data": {
      "text/plain": [
       "['I love biryani', ' jaleebi', ' mangoes', ' burger']"
      ]
     },
     "execution_count": 19,
     "metadata": {},
     "output_type": "execute_result"
    }
   ],
   "source": [
    "food.split(\",\")"
   ]
  },
  {
   "cell_type": "markdown",
   "id": "69f4e626",
   "metadata": {},
   "source": [
    "---"
   ]
  },
  {
   "cell_type": "markdown",
   "id": "0ee2b9e4",
   "metadata": {},
   "source": [
    "# Basic Data Structures inPython \n",
    "\n",
    "### 1- Tupple\n",
    "\n",
    "### 2- List\n",
    "\n",
    "### 3- Dictionaries\n",
    "\n",
    "### 4- Set"
   ]
  },
  {
   "cell_type": "markdown",
   "id": "b0db5e78",
   "metadata": {},
   "source": [
    "## 1-Tuples\n",
    "- ordered collection of elements\n",
    "- enclosed in () round braces/paranthesis\n",
    "- Different kinds of elements can be stored\n",
    "- once elements are stored you can not change them (Unmutatable)"
   ]
  },
  {
   "cell_type": "code",
   "execution_count": 34,
   "id": "0003aa92",
   "metadata": {},
   "outputs": [
    {
     "data": {
      "text/plain": [
       "(9, 'Python', True, 2.5)"
      ]
     },
     "execution_count": 34,
     "metadata": {},
     "output_type": "execute_result"
    }
   ],
   "source": [
    "tup1=(9,\"Python\",True,2.5)\n",
    "tup1"
   ]
  },
  {
   "cell_type": "code",
   "execution_count": 35,
   "id": "7bc9841a",
   "metadata": {},
   "outputs": [
    {
     "data": {
      "text/plain": [
       "tuple"
      ]
     },
     "execution_count": 35,
     "metadata": {},
     "output_type": "execute_result"
    }
   ],
   "source": [
    "# Types of a tuple\n",
    "type(tup1)"
   ]
  },
  {
   "cell_type": "markdown",
   "id": "cec58584",
   "metadata": {},
   "source": [
    "### - Indexing in Tuple"
   ]
  },
  {
   "cell_type": "code",
   "execution_count": 36,
   "id": "3810cbf6",
   "metadata": {},
   "outputs": [
    {
     "data": {
      "text/plain": [
       "'Python'"
      ]
     },
     "execution_count": 36,
     "metadata": {},
     "output_type": "execute_result"
    }
   ],
   "source": [
    "tup1[1]"
   ]
  },
  {
   "cell_type": "code",
   "execution_count": 37,
   "id": "b2e05146",
   "metadata": {},
   "outputs": [
    {
     "data": {
      "text/plain": [
       "True"
      ]
     },
     "execution_count": 37,
     "metadata": {},
     "output_type": "execute_result"
    }
   ],
   "source": [
    "tup1[2]"
   ]
  },
  {
   "cell_type": "code",
   "execution_count": 38,
   "id": "e1d56370",
   "metadata": {},
   "outputs": [
    {
     "data": {
      "text/plain": [
       "(9, 'Python', True)"
      ]
     },
     "execution_count": 38,
     "metadata": {},
     "output_type": "execute_result"
    }
   ],
   "source": [
    "# Last element is exclusive\n",
    "tup1[0:3]"
   ]
  },
  {
   "cell_type": "code",
   "execution_count": 41,
   "id": "459fb188",
   "metadata": {},
   "outputs": [
    {
     "data": {
      "text/plain": [
       "(True, 2.5)"
      ]
     },
     "execution_count": 41,
     "metadata": {},
     "output_type": "execute_result"
    }
   ],
   "source": [
    "tup1[2:]"
   ]
  },
  {
   "cell_type": "code",
   "execution_count": 42,
   "id": "f3338489",
   "metadata": {},
   "outputs": [
    {
     "data": {
      "text/plain": [
       "(9, 'Python', True)"
      ]
     },
     "execution_count": 42,
     "metadata": {},
     "output_type": "execute_result"
    }
   ],
   "source": [
    "tup1[:3]"
   ]
  },
  {
   "cell_type": "code",
   "execution_count": 39,
   "id": "92ea8df5",
   "metadata": {},
   "outputs": [
    {
     "data": {
      "text/plain": [
       "2.5"
      ]
     },
     "execution_count": 39,
     "metadata": {},
     "output_type": "execute_result"
    }
   ],
   "source": [
    "tup1[-1]"
   ]
  },
  {
   "cell_type": "code",
   "execution_count": 43,
   "id": "0b7059cf",
   "metadata": {},
   "outputs": [
    {
     "data": {
      "text/plain": [
       "('Python', True)"
      ]
     },
     "execution_count": 43,
     "metadata": {},
     "output_type": "execute_result"
    }
   ],
   "source": [
    "tup1[-3:-1]"
   ]
  },
  {
   "cell_type": "code",
   "execution_count": 40,
   "id": "d0a46468",
   "metadata": {},
   "outputs": [
    {
     "data": {
      "text/plain": [
       "4"
      ]
     },
     "execution_count": 40,
     "metadata": {},
     "output_type": "execute_result"
    }
   ],
   "source": [
    "# Elements in Tuple\n",
    "len(tup1)"
   ]
  },
  {
   "cell_type": "code",
   "execution_count": 10,
   "id": "337dada4",
   "metadata": {},
   "outputs": [
    {
     "data": {
      "text/plain": [
       "(4, 'Hello', False, 9.9)"
      ]
     },
     "execution_count": 10,
     "metadata": {},
     "output_type": "execute_result"
    }
   ],
   "source": [
    "tup2=(4,\"Hello\",False,9.9)\n",
    "tup2"
   ]
  },
  {
   "cell_type": "markdown",
   "id": "ecb5d4c8",
   "metadata": {},
   "source": [
    "-  Add tuple to a tuple. You are allowed to add tuples to tuples, so if you want to add one item, (or many), create a new tuple with the item(s), and add it to the existing tuple:"
   ]
  },
  {
   "cell_type": "code",
   "execution_count": 12,
   "id": "3ec16aef",
   "metadata": {},
   "outputs": [
    {
     "data": {
      "text/plain": [
       "(9, 'Python', True, 2.5, 4, 'Hello', False, 9.9)"
      ]
     },
     "execution_count": 12,
     "metadata": {},
     "output_type": "execute_result"
    }
   ],
   "source": [
    "# concatinate (to add two tuple or >2)\n",
    "tup1 + tup2"
   ]
  },
  {
   "cell_type": "code",
   "execution_count": 13,
   "id": "d20ebbf6",
   "metadata": {},
   "outputs": [
    {
     "data": {
      "text/plain": [
       "(9, 'Python', True, 2.5, 9, 'Python', True, 2.5, 4, 'Hello', False, 9.9)"
      ]
     },
     "execution_count": 13,
     "metadata": {},
     "output_type": "execute_result"
    }
   ],
   "source": [
    "# concatinate + repeat\n",
    "tup1*2 + tup2"
   ]
  },
  {
   "cell_type": "code",
   "execution_count": 50,
   "id": "a09fc5d9",
   "metadata": {},
   "outputs": [
    {
     "data": {
      "text/plain": [
       "(80, 90, 99, 90, 100)"
      ]
     },
     "execution_count": 50,
     "metadata": {},
     "output_type": "execute_result"
    }
   ],
   "source": [
    "tup3=(80,90,99,90,100)\n",
    "tup3"
   ]
  },
  {
   "cell_type": "code",
   "execution_count": 51,
   "id": "ad0c78c7",
   "metadata": {},
   "outputs": [
    {
     "data": {
      "text/plain": [
       "100"
      ]
     },
     "execution_count": 51,
     "metadata": {},
     "output_type": "execute_result"
    }
   ],
   "source": [
    "# maximum\n",
    "max(tup3)"
   ]
  },
  {
   "cell_type": "code",
   "execution_count": 52,
   "id": "a4e00f68",
   "metadata": {},
   "outputs": [
    {
     "data": {
      "text/plain": [
       "80"
      ]
     },
     "execution_count": 52,
     "metadata": {},
     "output_type": "execute_result"
    }
   ],
   "source": [
    "# minimum\n",
    "min(tup3)"
   ]
  },
  {
   "cell_type": "code",
   "execution_count": 53,
   "id": "437347c4",
   "metadata": {},
   "outputs": [
    {
     "data": {
      "text/plain": [
       "2"
      ]
     },
     "execution_count": 53,
     "metadata": {},
     "output_type": "execute_result"
    }
   ],
   "source": [
    "tup3.index(99)"
   ]
  },
  {
   "cell_type": "code",
   "execution_count": 54,
   "id": "a07df11e",
   "metadata": {},
   "outputs": [
    {
     "data": {
      "text/plain": [
       "2"
      ]
     },
     "execution_count": 54,
     "metadata": {},
     "output_type": "execute_result"
    }
   ],
   "source": [
    "tup3.count(90)"
   ]
  },
  {
   "cell_type": "code",
   "execution_count": 32,
   "id": "acd468fb",
   "metadata": {},
   "outputs": [
    {
     "data": {
      "text/plain": [
       "('Assalam o alaikum',)"
      ]
     },
     "execution_count": 32,
     "metadata": {},
     "output_type": "execute_result"
    }
   ],
   "source": [
    "#To create a tuple with only one item,you have to add a comma after the item, otherwise Python will not recognize it as a tuple.\n",
    "tup4=(\"Assalam o alaikum\",)\n",
    "tup4"
   ]
  },
  {
   "cell_type": "code",
   "execution_count": 33,
   "id": "40aba6e9",
   "metadata": {},
   "outputs": [
    {
     "data": {
      "text/plain": [
       "tuple"
      ]
     },
     "execution_count": 33,
     "metadata": {},
     "output_type": "execute_result"
    }
   ],
   "source": [
    "type(tup4)"
   ]
  },
  {
   "cell_type": "markdown",
   "id": "6b3efee0",
   "metadata": {},
   "source": [
    "---"
   ]
  },
  {
   "cell_type": "markdown",
   "id": "b7c2f64a",
   "metadata": {},
   "source": [
    "## 2- List\n",
    "- ordered collection of elements\n",
    "- enclosed in [ ] square braces/brcket\n",
    "- Mutable, you can change the values"
   ]
  },
  {
   "cell_type": "code",
   "execution_count": 26,
   "id": "838f5a35",
   "metadata": {},
   "outputs": [
    {
     "data": {
      "text/plain": [
       "[9, 'Python', True, 2.5]"
      ]
     },
     "execution_count": 26,
     "metadata": {},
     "output_type": "execute_result"
    }
   ],
   "source": [
    "list1=[9,\"Python\",True,2.5]\n",
    "list1"
   ]
  },
  {
   "cell_type": "code",
   "execution_count": 27,
   "id": "74a9d047",
   "metadata": {},
   "outputs": [
    {
     "name": "stdout",
     "output_type": "stream",
     "text": [
      "Yess! python in this list\n"
     ]
    }
   ],
   "source": [
    "# To determine if a specified item is present in a list use the in keyword:\n",
    "if \"Python\" in list1:\n",
    "    print(\"Yess! python in this list\")"
   ]
  },
  {
   "cell_type": "code",
   "execution_count": 28,
   "id": "704f9491",
   "metadata": {},
   "outputs": [
    {
     "name": "stdout",
     "output_type": "stream",
     "text": [
      "9\n",
      "Python\n",
      "True\n",
      "2.5\n"
     ]
    }
   ],
   "source": [
    "# Loop through the set, and print the values:\n",
    "for x in list1:\n",
    "  print(x)"
   ]
  },
  {
   "cell_type": "code",
   "execution_count": 29,
   "id": "69127141",
   "metadata": {},
   "outputs": [
    {
     "data": {
      "text/plain": [
       "list"
      ]
     },
     "execution_count": 29,
     "metadata": {},
     "output_type": "execute_result"
    }
   ],
   "source": [
    "type(list1)"
   ]
  },
  {
   "cell_type": "code",
   "execution_count": 30,
   "id": "9b336f8f",
   "metadata": {},
   "outputs": [
    {
     "data": {
      "text/plain": [
       "4"
      ]
     },
     "execution_count": 30,
     "metadata": {},
     "output_type": "execute_result"
    }
   ],
   "source": [
    "len(list1)"
   ]
  },
  {
   "cell_type": "code",
   "execution_count": 31,
   "id": "9bac43ad",
   "metadata": {
    "scrolled": true
   },
   "outputs": [
    {
     "data": {
      "text/plain": [
       "'Python'"
      ]
     },
     "execution_count": 31,
     "metadata": {},
     "output_type": "execute_result"
    }
   ],
   "source": [
    "list1[1]"
   ]
  },
  {
   "cell_type": "code",
   "execution_count": 32,
   "id": "5209d7bc",
   "metadata": {},
   "outputs": [
    {
     "data": {
      "text/plain": [
       "['Python', True]"
      ]
     },
     "execution_count": 32,
     "metadata": {},
     "output_type": "execute_result"
    }
   ],
   "source": [
    "list1[1:3]"
   ]
  },
  {
   "cell_type": "code",
   "execution_count": 33,
   "id": "7f23fe77",
   "metadata": {},
   "outputs": [
    {
     "data": {
      "text/plain": [
       "[9, 'Python', True]"
      ]
     },
     "execution_count": 33,
     "metadata": {},
     "output_type": "execute_result"
    }
   ],
   "source": [
    "list1[:3]"
   ]
  },
  {
   "cell_type": "code",
   "execution_count": 34,
   "id": "b43ace0b",
   "metadata": {},
   "outputs": [
    {
     "data": {
      "text/plain": [
       "['Python', True, 2.5]"
      ]
     },
     "execution_count": 34,
     "metadata": {},
     "output_type": "execute_result"
    }
   ],
   "source": [
    "list1[1:]"
   ]
  },
  {
   "cell_type": "code",
   "execution_count": 35,
   "id": "1ac6f56d",
   "metadata": {},
   "outputs": [
    {
     "data": {
      "text/plain": [
       "2.5"
      ]
     },
     "execution_count": 35,
     "metadata": {},
     "output_type": "execute_result"
    }
   ],
   "source": [
    "list1[-1]"
   ]
  },
  {
   "cell_type": "code",
   "execution_count": 36,
   "id": "26736bef",
   "metadata": {},
   "outputs": [
    {
     "data": {
      "text/plain": [
       "['Python', True]"
      ]
     },
     "execution_count": 36,
     "metadata": {},
     "output_type": "execute_result"
    }
   ],
   "source": [
    "list1[-3:-1]"
   ]
  },
  {
   "cell_type": "code",
   "execution_count": 37,
   "id": "8c411481",
   "metadata": {},
   "outputs": [
    {
     "data": {
      "text/plain": [
       "[4, 8, 'Hello', 'World', 560, False, 9.9]"
      ]
     },
     "execution_count": 37,
     "metadata": {},
     "output_type": "execute_result"
    }
   ],
   "source": [
    "list2=[4,8,\"Hello\",\"World\",560,False,9.9]\n",
    "list2"
   ]
  },
  {
   "cell_type": "code",
   "execution_count": 38,
   "id": "1fec6707",
   "metadata": {},
   "outputs": [
    {
     "data": {
      "text/plain": [
       "[9, 'Python', True, 2.5, 4, 8, 'Hello', 'World', 560, False, 9.9]"
      ]
     },
     "execution_count": 38,
     "metadata": {},
     "output_type": "execute_result"
    }
   ],
   "source": [
    "# concatenate\n",
    "list1 + list2"
   ]
  },
  {
   "cell_type": "code",
   "execution_count": 39,
   "id": "19e62be6",
   "metadata": {},
   "outputs": [
    {
     "data": {
      "text/plain": [
       "[4, 8, 'Hello', 560, False, 9.9]"
      ]
     },
     "execution_count": 39,
     "metadata": {},
     "output_type": "execute_result"
    }
   ],
   "source": [
    "# To remove an item in a set, use the remove()\n",
    "list2.remove(\"World\")\n",
    "list2"
   ]
  },
  {
   "cell_type": "code",
   "execution_count": 44,
   "id": "f6315117",
   "metadata": {},
   "outputs": [
    {
     "data": {
      "text/plain": [
       "[9, 'Python', True, 2.5, 9, 'Python', True, 2.5]"
      ]
     },
     "execution_count": 44,
     "metadata": {},
     "output_type": "execute_result"
    }
   ],
   "source": [
    "# repeat\n",
    "list1*2"
   ]
  },
  {
   "cell_type": "code",
   "execution_count": null,
   "id": "b5b6dcf6",
   "metadata": {},
   "outputs": [],
   "source": [
    "list1."
   ]
  },
  {
   "cell_type": "code",
   "execution_count": 45,
   "id": "f4679403",
   "metadata": {},
   "outputs": [
    {
     "data": {
      "text/plain": [
       "[9, 'Python', True, 2.5]"
      ]
     },
     "execution_count": 45,
     "metadata": {},
     "output_type": "execute_result"
    }
   ],
   "source": [
    "list1"
   ]
  },
  {
   "cell_type": "code",
   "execution_count": 48,
   "id": "a1d073b6",
   "metadata": {},
   "outputs": [
    {
     "data": {
      "text/plain": [
       "[2.5, True, 'Python', 9]"
      ]
     },
     "execution_count": 48,
     "metadata": {},
     "output_type": "execute_result"
    }
   ],
   "source": [
    "# \n",
    "list1.reverse()\n",
    "list1"
   ]
  },
  {
   "cell_type": "code",
   "execution_count": 50,
   "id": "245890d1",
   "metadata": {},
   "outputs": [
    {
     "data": {
      "text/plain": [
       "[2.5, True, 'Python', 9, 'YouTube channel', 'YouTube channel']"
      ]
     },
     "execution_count": 50,
     "metadata": {},
     "output_type": "execute_result"
    }
   ],
   "source": [
    "# Add an item to a set, using the append() method:\n",
    "list1.append(\"YouTube channel\")\n",
    "list1"
   ]
  },
  {
   "cell_type": "code",
   "execution_count": 54,
   "id": "37218ee0",
   "metadata": {},
   "outputs": [
    {
     "data": {
      "text/plain": [
       "2"
      ]
     },
     "execution_count": 54,
     "metadata": {},
     "output_type": "execute_result"
    }
   ],
   "source": [
    "list1.count(\"YouTube channel\")"
   ]
  },
  {
   "cell_type": "code",
   "execution_count": 56,
   "id": "f6fc4bfa",
   "metadata": {},
   "outputs": [
    {
     "data": {
      "text/plain": [
       "[30, 60, 98, 67, 54, 12, 34, 54, 78]"
      ]
     },
     "execution_count": 56,
     "metadata": {},
     "output_type": "execute_result"
    }
   ],
   "source": [
    "list3=[30,60,98,67,54,12,34,54,78]\n",
    "list3"
   ]
  },
  {
   "cell_type": "code",
   "execution_count": 57,
   "id": "39e51146",
   "metadata": {},
   "outputs": [
    {
     "data": {
      "text/plain": [
       "9"
      ]
     },
     "execution_count": 57,
     "metadata": {},
     "output_type": "execute_result"
    }
   ],
   "source": [
    "len(list3)"
   ]
  },
  {
   "cell_type": "code",
   "execution_count": 58,
   "id": "c1f2f26d",
   "metadata": {},
   "outputs": [
    {
     "data": {
      "text/plain": [
       "[12, 30, 34, 54, 54, 60, 67, 78, 98]"
      ]
     },
     "execution_count": 58,
     "metadata": {},
     "output_type": "execute_result"
    }
   ],
   "source": [
    "# Arrange the list in ascending order\n",
    "list3.sort()\n",
    "list3"
   ]
  },
  {
   "cell_type": "code",
   "execution_count": 59,
   "id": "a4454645",
   "metadata": {},
   "outputs": [
    {
     "data": {
      "text/plain": [
       "[12, 30, 34, 54, 54, 60, 67, 78, 98, 12, 30, 34, 54, 54, 60, 67, 78, 98]"
      ]
     },
     "execution_count": 59,
     "metadata": {},
     "output_type": "execute_result"
    }
   ],
   "source": [
    "list3*2"
   ]
  },
  {
   "cell_type": "code",
   "execution_count": 60,
   "id": "70d4893d",
   "metadata": {},
   "outputs": [
    {
     "data": {
      "text/plain": [
       "[2.5,\n",
       " True,\n",
       " 'Python',\n",
       " 9,\n",
       " 'YouTube channel',\n",
       " 'YouTube channel',\n",
       " 4,\n",
       " 8,\n",
       " 'Hello',\n",
       " 'World',\n",
       " 560,\n",
       " False,\n",
       " 9.9]"
      ]
     },
     "execution_count": 60,
     "metadata": {},
     "output_type": "execute_result"
    }
   ],
   "source": [
    "list1 + list2"
   ]
  },
  {
   "cell_type": "markdown",
   "id": "b67014fd",
   "metadata": {},
   "source": [
    "--- "
   ]
  },
  {
   "cell_type": "markdown",
   "id": "5429f740",
   "metadata": {},
   "source": [
    "## Dictionaries\n",
    "- An unordered collection of elements\n",
    "- Key and Value\n",
    "- curly braces or brackets { }\n",
    "- Mutateable (you can change the vaues)"
   ]
  },
  {
   "cell_type": "code",
   "execution_count": 49,
   "id": "e4e54458",
   "metadata": {},
   "outputs": [
    {
     "data": {
      "text/plain": [
       "{'Mango': 150, 'Apple': 120, 'Graps': 200, 'Banana': 70, 'Watermelon': 250}"
      ]
     },
     "execution_count": 49,
     "metadata": {},
     "output_type": "execute_result"
    }
   ],
   "source": [
    "# Fruits and their prices\n",
    "fruits={\"Mango\":150 , \"Apple\":120 , \"Graps\":200 , \"Banana\":70 , \"Watermelon\":250}\n",
    "fruits"
   ]
  },
  {
   "cell_type": "code",
   "execution_count": 51,
   "id": "87ba519b",
   "metadata": {
    "scrolled": true
   },
   "outputs": [
    {
     "data": {
      "text/plain": [
       "150"
      ]
     },
     "execution_count": 51,
     "metadata": {},
     "output_type": "execute_result"
    }
   ],
   "source": [
    "# Use square bracket[] to print the Key value\n",
    "fruits[\"Mango\"]"
   ]
  },
  {
   "cell_type": "code",
   "execution_count": 52,
   "id": "d33a7e59",
   "metadata": {},
   "outputs": [
    {
     "data": {
      "text/plain": [
       "5"
      ]
     },
     "execution_count": 52,
     "metadata": {},
     "output_type": "execute_result"
    }
   ],
   "source": [
    "len(fruits)"
   ]
  },
  {
   "cell_type": "code",
   "execution_count": 73,
   "id": "3a7b1b94",
   "metadata": {},
   "outputs": [
    {
     "data": {
      "text/plain": [
       "dict"
      ]
     },
     "execution_count": 73,
     "metadata": {},
     "output_type": "execute_result"
    }
   ],
   "source": [
    "type(fruits)"
   ]
  },
  {
   "cell_type": "code",
   "execution_count": 79,
   "id": "3eb7acf5",
   "metadata": {},
   "outputs": [
    {
     "data": {
      "text/plain": [
       "dict_keys(['Mango', 'Apple', 'Graps', 'Banana', 'Watermelon'])"
      ]
     },
     "execution_count": 79,
     "metadata": {},
     "output_type": "execute_result"
    }
   ],
   "source": [
    "# extract data\n",
    "keys=fruits.keys()\n",
    "keys"
   ]
  },
  {
   "cell_type": "code",
   "execution_count": 81,
   "id": "36d9d37c",
   "metadata": {},
   "outputs": [
    {
     "data": {
      "text/plain": [
       "dict_values([150, 120, 200, 70, 250])"
      ]
     },
     "execution_count": 81,
     "metadata": {},
     "output_type": "execute_result"
    }
   ],
   "source": [
    "values=fruits.values()\n",
    "values"
   ]
  },
  {
   "cell_type": "code",
   "execution_count": 87,
   "id": "08f1dcd7",
   "metadata": {},
   "outputs": [
    {
     "data": {
      "text/plain": [
       "{'Mango': 150,\n",
       " 'Apple': 120,\n",
       " 'Graps': 200,\n",
       " 'Banana': 70,\n",
       " 'Watermelon': 250,\n",
       " 'Falsa': 220}"
      ]
     },
     "execution_count": 87,
     "metadata": {},
     "output_type": "execute_result"
    }
   ],
   "source": [
    "# adding new elements\n",
    "fruits[\"Falsa\"]=220\n",
    "fruits"
   ]
  },
  {
   "cell_type": "code",
   "execution_count": 89,
   "id": "21f01db0",
   "metadata": {},
   "outputs": [
    {
     "data": {
      "text/plain": [
       "{'Mango': 150,\n",
       " 'Apple': 120,\n",
       " 'Graps': 200,\n",
       " 'Banana': 80,\n",
       " 'Watermelon': 250,\n",
       " 'Falsa': 220}"
      ]
     },
     "execution_count": 89,
     "metadata": {},
     "output_type": "execute_result"
    }
   ],
   "source": [
    "# update these values use curley{} bracket in round bracket() i.e.({\"Banana\":80})\n",
    "fruits.update({\"Banana\":80})\n",
    "fruits"
   ]
  },
  {
   "cell_type": "code",
   "execution_count": 90,
   "id": "c5d03f50",
   "metadata": {},
   "outputs": [
    {
     "data": {
      "text/plain": [
       "{'Dates': 100, 'Pepsi': 130, 'Yogurt': 220}"
      ]
     },
     "execution_count": 90,
     "metadata": {},
     "output_type": "execute_result"
    }
   ],
   "source": [
    "food={\"Dates\":100 , \"Pepsi\":130 , \"Yogurt\":220}\n",
    "food"
   ]
  },
  {
   "cell_type": "code",
   "execution_count": 91,
   "id": "97f58b32",
   "metadata": {},
   "outputs": [
    {
     "data": {
      "text/plain": [
       "{'Mango': 150,\n",
       " 'Apple': 120,\n",
       " 'Graps': 200,\n",
       " 'Banana': 80,\n",
       " 'Watermelon': 250,\n",
       " 'Falsa': 220,\n",
       " 'Dates': 100,\n",
       " 'Pepsi': 130,\n",
       " 'Yogurt': 220}"
      ]
     },
     "execution_count": 91,
     "metadata": {},
     "output_type": "execute_result"
    }
   ],
   "source": [
    "# concatenate\n",
    "fruits.update(food)\n",
    "fruits"
   ]
  },
  {
   "cell_type": "markdown",
   "id": "28afdfce",
   "metadata": {},
   "source": [
    "## 4-Set\n",
    "- unordered and unindexed\n",
    "- curly braces are used { }\n",
    "- no dublicate allowed"
   ]
  },
  {
   "cell_type": "code",
   "execution_count": 101,
   "id": "319c4612",
   "metadata": {},
   "outputs": [
    {
     "data": {
      "text/plain": [
       "{1.9, 2, 7.6, 'Karachi', 'Pakistan', 'Python', True}"
      ]
     },
     "execution_count": 101,
     "metadata": {},
     "output_type": "execute_result"
    }
   ],
   "source": [
    "s1={2,7.6,\"Python\", True,\"Karachi\",\"Pakistan\",1.9}\n",
    "s1"
   ]
  },
  {
   "cell_type": "code",
   "execution_count": 100,
   "id": "ca31904b",
   "metadata": {},
   "outputs": [
    {
     "data": {
      "text/plain": [
       "{1.9, 2, 7.6, 'Hello', 'Karachi', 'Pakistan', 'Python', True}"
      ]
     },
     "execution_count": 100,
     "metadata": {},
     "output_type": "execute_result"
    }
   ],
   "source": [
    "s1.add(\"Pakistan\")\n",
    "s1"
   ]
  },
  {
   "cell_type": "code",
   "execution_count": 102,
   "id": "65096247",
   "metadata": {},
   "outputs": [
    {
     "data": {
      "text/plain": [
       "{1.9, 2, 7.6, 'Karachi', 'Pakistan', 'Python'}"
      ]
     },
     "execution_count": 102,
     "metadata": {},
     "output_type": "execute_result"
    }
   ],
   "source": [
    "s1.remove(True)\n",
    "s1"
   ]
  },
  {
   "cell_type": "code",
   "execution_count": null,
   "id": "70353d3f",
   "metadata": {},
   "outputs": [],
   "source": []
  }
 ],
 "metadata": {
  "kernelspec": {
   "display_name": "Python 3 (ipykernel)",
   "language": "python",
   "name": "python3"
  },
  "language_info": {
   "codemirror_mode": {
    "name": "ipython",
    "version": 3
   },
   "file_extension": ".py",
   "mimetype": "text/x-python",
   "name": "python",
   "nbconvert_exporter": "python",
   "pygments_lexer": "ipython3",
   "version": "3.9.12"
  }
 },
 "nbformat": 4,
 "nbformat_minor": 5
}
