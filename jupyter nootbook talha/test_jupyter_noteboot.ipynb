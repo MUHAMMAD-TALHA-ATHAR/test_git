{
 "cells": [
  {
   "cell_type": "markdown",
   "id": "07a11c57",
   "metadata": {},
   "source": [
    "# Python Notes\n",
    "## How to use Jupyter Notebook\n",
    "### Basics of Python"
   ]
  },
  {
   "cell_type": "markdown",
   "id": "c1830fbd",
   "metadata": {},
   "source": [
    "### **01- My first program**"
   ]
  },
  {
   "cell_type": "code",
   "execution_count": 1,
   "id": "b4eeebb5",
   "metadata": {},
   "outputs": [
    {
     "name": "stdout",
     "output_type": "stream",
     "text": [
      "2.5\n",
      "Hello World\n",
      "We are learning Python with Aammar\n"
     ]
    }
   ],
   "source": [
    "print(5/2)\n",
    "print(\"Hello World\")\n",
    "print(\"We are learning Python with Aammar\")"
   ]
  },
  {
   "cell_type": "markdown",
   "id": "2a0f9f32",
   "metadata": {},
   "source": [
    "### **02- operators**"
   ]
  },
  {
   "cell_type": "code",
   "execution_count": 2,
   "id": "f887814e",
   "metadata": {},
   "outputs": [
    {
     "name": "stdout",
     "output_type": "stream",
     "text": [
      "10\n",
      "2\n",
      "36\n",
      "3.0\n",
      "2\n",
      "4\n",
      "8\n",
      "28.4\n"
     ]
    }
   ],
   "source": [
    "print(7+3)\n",
    "print(5-3)\n",
    "print(6*6)\n",
    "print(6/2)   # For point division\n",
    "print(17%3)\n",
    "print(9//2)  # for whole division\n",
    "print(2**3)  # For power of a number\n",
    "print(4**2*7/5+9-3) # PEMDAS (Paranthesis Exponents Multiply Divide Addition Subtraction)\n",
    "                    # left to right sequence hogi hor Mult div & add sub"
   ]
  },
  {
   "cell_type": "markdown",
   "id": "bf098c0a",
   "metadata": {},
   "source": [
    "*PEMDAS (Paranthesis Exponents Multiply Divide Addition Subtraction)\n",
    "left to right sequence hogi hor Mult div & add sub*"
   ]
  },
  {
   "cell_type": "markdown",
   "id": "fd40a4b7",
   "metadata": {},
   "source": [
    "### **03- strings**"
   ]
  },
  {
   "cell_type": "code",
   "execution_count": 3,
   "id": "66c00f81",
   "metadata": {},
   "outputs": [
    {
     "name": "stdout",
     "output_type": "stream",
     "text": [
      "Test for single quotes\n",
      "Test for double quotes\n",
      "Test for tripple quotes\n",
      "What's up\n",
      "        Assalam o alaikum       \n"
     ]
    }
   ],
   "source": [
    "print('Test for single quotes')\n",
    "print(\"Test for double quotes\")\n",
    "print('''Test for tripple quotes''')\n",
    "print(\"What's up\")  # single and double quotes in one line\n",
    "print (\"        Assalam o alaikum       \")  # space in quotes"
   ]
  },
  {
   "cell_type": "markdown",
   "id": "b8c62fed",
   "metadata": {},
   "source": [
    "**04- comments**\n",
    "\n",
    "The shortcut key to comment is **Ctrl+/**"
   ]
  },
  {
   "cell_type": "code",
   "execution_count": 4,
   "id": "fd21417f",
   "metadata": {},
   "outputs": [
    {
     "name": "stdout",
     "output_type": "stream",
     "text": [
      "We are learning Python with Aammar\n",
      "14\n"
     ]
    }
   ],
   "source": [
    "print(\"We are learning Python with Aammar\") # print a string\n",
    "print(5+9) # print operators function with numbers"
   ]
  },
  {
   "cell_type": "markdown",
   "id": "b79243e5",
   "metadata": {},
   "source": [
    "### **05- variables**\n",
    "**Variables: Objects containing specific values**\n",
    "\n",
    "**Rules to assign a variables:**\n",
    "\n",
    "1) The varibles should contain letters numbers or underscore.\n",
    "\n",
    "2) Do not start with numbers.\n",
    "\n",
    "3) Space are not allowed.\n",
    "\n",
    "4) Do not use keywords used in functions (if,else,True,None,for,while,break,pass,mean,test,etc.)\n",
    "\n",
    "5) Short and descriptive\n",
    "\n",
    "6) Case senstivity (uppercase, lowercase letters i.e.lower case letters should be used)\n"
   ]
  },
  {
   "cell_type": "code",
   "execution_count": 5,
   "id": "cba6c401",
   "metadata": {},
   "outputs": [
    {
     "name": "stdout",
     "output_type": "stream",
     "text": [
      "80\n",
      "I live in Pakistan\n",
      "85\n",
      "<class 'int'>\n",
      "<class 'str'>\n",
      "<class 'str'>\n",
      "Oranges\n"
     ]
    }
   ],
   "source": [
    "x=80 # numeric or integer variable\n",
    "print(x)\n",
    "y=\"I live in Pakistan\" # string variable\n",
    "print(y)\n",
    "x=x+5  # or x=85\n",
    "print(x)\n",
    "\n",
    "# Types/Class of variables\n",
    "type(x)\n",
    "print(type(x))\n",
    "print(type(y))\n",
    "\n",
    "fruit_basket=\"Oranges\"\n",
    "print(type(fruit_basket))\n",
    "print(fruit_basket)"
   ]
  },
  {
   "cell_type": "markdown",
   "id": "8a08a3af",
   "metadata": {},
   "source": [
    "### **06- input_variables**"
   ]
  },
  {
   "cell_type": "code",
   "execution_count": 6,
   "id": "08e43b9c",
   "metadata": {},
   "outputs": [
    {
     "name": "stdout",
     "output_type": "stream",
     "text": [
      "What is your favourite fruit? Mango\n",
      "Mango\n"
     ]
    }
   ],
   "source": [
    "# fruit_basket=\"Mangoes\"\n",
    "# print(fruit_basket)\n",
    "\n",
    "# input function simple\n",
    "fruit_basket=input(\"What is your favourite fruit? \")\n",
    "print(fruit_basket)"
   ]
  },
  {
   "cell_type": "code",
   "execution_count": 7,
   "id": "0a021982",
   "metadata": {},
   "outputs": [
    {
     "name": "stdout",
     "output_type": "stream",
     "text": [
      "What is your name? Ali\n",
      "Assalam o alaikum Ali\n"
     ]
    }
   ],
   "source": [
    "# input function of 2nd stage\n",
    "name= input(\"What is your name? \")\n",
    "greeting=\"Assalam o alaikum\"\n",
    "print(greeting, name)"
   ]
  },
  {
   "cell_type": "code",
   "execution_count": 8,
   "id": "2a529013",
   "metadata": {},
   "outputs": [
    {
     "name": "stdout",
     "output_type": "stream",
     "text": [
      "What is your name? Ali\n",
      "Assalam o alaikum Ali\n"
     ]
    }
   ],
   "source": [
    "# another way of stage 2 input function\n",
    "name= input(\"What is your name? \")\n",
    "print(\"Assalam o alaikum\", name)"
   ]
  },
  {
   "cell_type": "code",
   "execution_count": 9,
   "id": "fe2cfcfd",
   "metadata": {},
   "outputs": [
    {
     "name": "stdout",
     "output_type": "stream",
     "text": [
      "What is your name? Ali\n",
      "How old are you? 19\n",
      "Assalam o alaikum Ali , You are still young\n"
     ]
    }
   ],
   "source": [
    "# 3rd stage input function\n",
    "name=input(\"What is your name? \")\n",
    "age=input(\"How old are you? \")\n",
    "greeting=\"Assalam o alaikum\"\n",
    "print(greeting, name, \", You are still young\")"
   ]
  },
  {
   "cell_type": "markdown",
   "id": "80e8ca66",
   "metadata": {},
   "source": [
    "### **07- conditional_logics**\n",
    "**Logical Operators are either \"true or false\" or \"yes or no\" or \"0 or 1\"**\n",
    "\n",
    "equal to                      ==\n",
    "\n",
    "not equal to                  !=\n",
    "\n",
    "less than                     <\n",
    "\n",
    "greater than                  >\n",
    "\n",
    "less than equal to            <=\n",
    "\n",
    "greater than equal to         >="
   ]
  },
  {
   "cell_type": "code",
   "execution_count": 10,
   "id": "708bec66",
   "metadata": {
    "scrolled": true
   },
   "outputs": [
    {
     "name": "stdout",
     "output_type": "stream",
     "text": [
      "False\n",
      "True\n",
      "True\n",
      "False\n",
      "True\n",
      "False\n"
     ]
    }
   ],
   "source": [
    "print(2==4)\n",
    "print(2!=4)\n",
    "print(2<4)\n",
    "print(2>4)\n",
    "print(2<=4)\n",
    "print(2>=4)"
   ]
  },
  {
   "cell_type": "code",
   "execution_count": 11,
   "id": "b3b55375",
   "metadata": {},
   "outputs": [
    {
     "name": "stdout",
     "output_type": "stream",
     "text": [
      "Is abrar go to school False\n"
     ]
    }
   ],
   "source": [
    "# Applications of logicals operators\n",
    "abrar_age=3\n",
    "admission_age_at_schools=4\n",
    "print(\"Is abrar go to school\", abrar_age==admission_age_at_schools)"
   ]
  },
  {
   "cell_type": "code",
   "execution_count": 12,
   "id": "d0cb5e28",
   "metadata": {},
   "outputs": [
    {
     "name": "stdout",
     "output_type": "stream",
     "text": [
      "Enter children age? 5\n",
      "True\n"
     ]
    }
   ],
   "source": [
    "# input function and logical operators\n",
    "children_age=input(\"Enter children age? \")  # input function\n",
    "children_age=int(children_age)\n",
    "admission_age_at_school=5   \n",
    "print(children_age==admission_age_at_school) # logical operator"
   ]
  },
  {
   "cell_type": "markdown",
   "id": "e12ca15e",
   "metadata": {},
   "source": [
    "### **08- type_conversion**"
   ]
  },
  {
   "cell_type": "code",
   "execution_count": 13,
   "id": "efbc98a7",
   "metadata": {
    "scrolled": true
   },
   "outputs": [
    {
     "name": "stdout",
     "output_type": "stream",
     "text": [
      "<class 'int'>\n",
      "<class 'float'>\n",
      "<class 'str'>\n",
      "10.5 Type of x is <class 'float'>\n"
     ]
    }
   ],
   "source": [
    "x = 5                      # integer\n",
    "y = 5.5                    # float\n",
    "z = \"Assalam o alaikum\"    # string\n",
    "\n",
    "print(type(x))\n",
    "print(type(y))\n",
    "print(type(z))\n",
    "\n",
    "# implicit type conversion\n",
    "x=x+y \n",
    "print(x,\"Type of x is\", type(x))"
   ]
  },
  {
   "cell_type": "code",
   "execution_count": 14,
   "id": "83d58134",
   "metadata": {},
   "outputs": [
    {
     "name": "stdout",
     "output_type": "stream",
     "text": [
      "What is your age? 19\n",
      "19 <class 'int'>\n"
     ]
    }
   ],
   "source": [
    "# explicit type conversion\n",
    "age=input(\"What is your age? \")\n",
    "# age=int(age)\n",
    "print(age, type(int(age)))"
   ]
  },
  {
   "cell_type": "code",
   "execution_count": 15,
   "id": "d13a9c0e",
   "metadata": {},
   "outputs": [
    {
     "name": "stdout",
     "output_type": "stream",
     "text": [
      "What is your name? Ali\n",
      "Ali <class 'str'>\n"
     ]
    }
   ],
   "source": [
    "# name\n",
    "name=input(\"What is your name? \")\n",
    "print(name, type(name))"
   ]
  },
  {
   "cell_type": "markdown",
   "id": "1b99839a",
   "metadata": {},
   "source": [
    "### **09- if_else_elif_statements**"
   ]
  },
  {
   "cell_type": "code",
   "execution_count": 16,
   "id": "33651d68",
   "metadata": {},
   "outputs": [
    {
     "name": "stdout",
     "output_type": "stream",
     "text": [
      "Enter hammad age? 7\n",
      "Hammad should join higher secondary school\n"
     ]
    }
   ],
   "source": [
    "required_age_at_school=5\n",
    "hammad_age=int(input(\"Enter hammad age? \"))\n",
    "\n",
    "# question: can hammad go to school\n",
    "\n",
    "if hammad_age==required_age_at_school:\n",
    "    print(\"Hamad can join the school\")\n",
    "elif hammad_age>required_age_at_school:\n",
    "    print(\"Hammad should join higher secondary school\")\n",
    "else:\n",
    "    print(\"Hammad can't join the school\")\n"
   ]
  },
  {
   "cell_type": "markdown",
   "id": "107641be",
   "metadata": {},
   "source": [
    "### **10- functions**"
   ]
  },
  {
   "cell_type": "code",
   "execution_count": 17,
   "id": "fcd422b5",
   "metadata": {},
   "outputs": [
    {
     "name": "stdout",
     "output_type": "stream",
     "text": [
      "We are learning python\n",
      "We are learning python\n",
      "We are learning python\n"
     ]
    }
   ],
   "source": [
    "# Defining a function\n",
    "\n",
    "# First Method\n",
    "def pak():\n",
    "    print(\"We are learning python\")\n",
    "    print(\"We are learning python\")\n",
    "    print(\"We are learning python\")\n",
    "pak()"
   ]
  },
  {
   "cell_type": "code",
   "execution_count": 18,
   "id": "db1f4ff7",
   "metadata": {},
   "outputs": [
    {
     "name": "stdout",
     "output_type": "stream",
     "text": [
      "Assalam o alaikum\n",
      "Assalam o alaikum\n",
      "Assalam o alaikum\n"
     ]
    }
   ],
   "source": [
    "# Second Method\n",
    "def pia():\n",
    "    text=\"Assalam o alaikum\"\n",
    "    print(text)\n",
    "    print(text)\n",
    "    print(text)\n",
    "pia()"
   ]
  },
  {
   "cell_type": "code",
   "execution_count": 19,
   "id": "ac1440e2",
   "metadata": {},
   "outputs": [
    {
     "name": "stdout",
     "output_type": "stream",
     "text": [
      "Why Government banned ary news\n",
      "Why Government banned ary news\n",
      "Why Government banned ary news\n"
     ]
    }
   ],
   "source": [
    "# Third Method\n",
    "def ary(texts):\n",
    "    print(texts)\n",
    "    print(texts)\n",
    "    print(texts)\n",
    "ary(\"Why Government banned ary news\")"
   ]
  },
  {
   "cell_type": "code",
   "execution_count": 20,
   "id": "d1474238",
   "metadata": {},
   "outputs": [
    {
     "name": "stdout",
     "output_type": "stream",
     "text": [
      "How old are you? 19\n",
      "Ali can join university\n"
     ]
    }
   ],
   "source": [
    "# Defining a function with if,elif & else statement\n",
    "def school_calculator(age):\n",
    "    if age>=3 and age<10:\n",
    "        print(\"Ali can join primary school\")\n",
    "    elif age<3:\n",
    "        print(\"Ali can't join school because he is a baby\")\n",
    "    elif age>10 and age<15:\n",
    "        print(\"Ali can join secondary school\")\n",
    "    elif age>15 and age<18:\n",
    "        print(\"Ali can join intermediate school\")\n",
    "    elif age>18:\n",
    "        print(\"Ali can join university\")\n",
    "\n",
    "school_calculator(int(input(\"How old are you? \")))"
   ]
  },
  {
   "cell_type": "code",
   "execution_count": 21,
   "id": "cf82d30b",
   "metadata": {},
   "outputs": [
    {
     "name": "stdout",
     "output_type": "stream",
     "text": [
      "How old are you? 19\n",
      "29\n"
     ]
    }
   ],
   "source": [
    "# defining a function of Future\n",
    "def future_age(age):\n",
    "    new_age=age+10\n",
    "    return new_age\n",
    "    print(new_age)\n",
    "future_predicted_age=future_age(int(input(\"How old are you? \")))\n",
    "print(future_predicted_age)"
   ]
  },
  {
   "cell_type": "markdown",
   "id": "7fff464d",
   "metadata": {},
   "source": [
    "### **11- loops**\n",
    "**There are two types of loops (i) while loop (ii) for loop**"
   ]
  },
  {
   "cell_type": "code",
   "execution_count": 22,
   "id": "caff4f70",
   "metadata": {},
   "outputs": [
    {
     "name": "stdout",
     "output_type": "stream",
     "text": [
      "1\n",
      "2\n",
      "3\n",
      "4\n",
      "5\n"
     ]
    }
   ],
   "source": [
    "# While loop\n",
    "x=1\n",
    "while (x<=5):\n",
    "    print(x)\n",
    "    x=x+1"
   ]
  },
  {
   "cell_type": "code",
   "execution_count": 23,
   "id": "91c3a103",
   "metadata": {},
   "outputs": [
    {
     "name": "stdout",
     "output_type": "stream",
     "text": [
      "4\n",
      "5\n",
      "6\n",
      "7\n",
      "8\n"
     ]
    }
   ],
   "source": [
    "# For loop\n",
    "for y in range(4,9):\n",
    "    print(y)"
   ]
  },
  {
   "cell_type": "code",
   "execution_count": 24,
   "id": "2dd966ab",
   "metadata": {},
   "outputs": [
    {
     "name": "stdout",
     "output_type": "stream",
     "text": [
      "Mon\n",
      "tue\n",
      "Wed\n",
      "Thu\n"
     ]
    }
   ],
   "source": [
    "# array\n",
    "days=[\"Mon\",\"tue\",\"Wed\",\"Thu\",\"Fri\",\"Sat\",\"Sun\"]\n",
    "for d in days:\n",
    "    if (d==\"Fri\"):  \n",
    "        break          # loop stops\n",
    "    print(d)"
   ]
  },
  {
   "cell_type": "code",
   "execution_count": 25,
   "id": "66af0124",
   "metadata": {},
   "outputs": [
    {
     "name": "stdout",
     "output_type": "stream",
     "text": [
      "Mon\n",
      "tue\n",
      "Thu\n",
      "Fri\n",
      "Sat\n",
      "Sun\n"
     ]
    }
   ],
   "source": [
    "days=[\"Mon\",\"tue\",\"Wed\",\"Thu\",\"Fri\",\"Sat\",\"Sun\"]\n",
    "for d in days:\n",
    "    if (d==\"Wed\"):\n",
    "        continue       # skip  d\n",
    "    print(d)"
   ]
  },
  {
   "cell_type": "markdown",
   "id": "a70c893e",
   "metadata": {},
   "source": [
    "### **12- import_libraries**"
   ]
  },
  {
   "cell_type": "code",
   "execution_count": 26,
   "id": "28be199e",
   "metadata": {},
   "outputs": [
    {
     "name": "stdout",
     "output_type": "stream",
     "text": [
      "The value of pi is 3.141592653589793\n"
     ]
    }
   ],
   "source": [
    "# If you want to print the value of pi\n",
    "import math\n",
    "print(\"The value of pi is\", math.pi)"
   ]
  },
  {
   "cell_type": "code",
   "execution_count": 27,
   "id": "d457f2c7",
   "metadata": {},
   "outputs": [
    {
     "name": "stdout",
     "output_type": "stream",
     "text": [
      "200\n"
     ]
    }
   ],
   "source": [
    "import statistics\n",
    "x=[100,150,200,250,300]\n",
    "print(statistics.mean(x))"
   ]
  },
  {
   "cell_type": "markdown",
   "id": "73a0afdc",
   "metadata": {},
   "source": [
    "### **13- trouble_shooting**"
   ]
  },
  {
   "cell_type": "code",
   "execution_count": 28,
   "id": "a440d7fa",
   "metadata": {},
   "outputs": [
    {
     "name": "stdout",
     "output_type": "stream",
     "text": [
      "Hello name\n",
      "Hello Ali\n"
     ]
    }
   ],
   "source": [
    "# print(We are learning python)   # SyntaxError: invalid syntax. Perhaps you forgot a comma?\n",
    "\n",
    "# print(20/0)    # Runtime Error    ZeroDivisionError: division by zero\n",
    "\n",
    "name= \"Ali\"\n",
    "print(\"Hello name\")     # Semantic Error    Human error\n",
    "# To coorect this error\n",
    "print(\"Hello\", name)"
   ]
  },
  {
   "cell_type": "code",
   "execution_count": null,
   "id": "8c3550ec",
   "metadata": {},
   "outputs": [],
   "source": []
  }
 ],
 "metadata": {
  "kernelspec": {
   "display_name": "Python 3 (ipykernel)",
   "language": "python",
   "name": "python3"
  },
  "language_info": {
   "codemirror_mode": {
    "name": "ipython",
    "version": 3
   },
   "file_extension": ".py",
   "mimetype": "text/x-python",
   "name": "python",
   "nbconvert_exporter": "python",
   "pygments_lexer": "ipython3",
   "version": "3.9.12"
  }
 },
 "nbformat": 4,
 "nbformat_minor": 5
}
