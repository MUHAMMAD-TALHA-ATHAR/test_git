{
 "cells": [
  {
   "cell_type": "markdown",
   "id": "4e1b2824",
   "metadata": {},
   "source": [
    "# Jupyter Notebok"
   ]
  },
  {
   "cell_type": "code",
   "execution_count": 1,
   "id": "d94d7563",
   "metadata": {},
   "outputs": [
    {
     "name": "stdout",
     "output_type": "stream",
     "text": [
      "We are leraning Python\n"
     ]
    }
   ],
   "source": [
    "print(\"We are leraning Python\")"
   ]
  },
  {
   "cell_type": "code",
   "execution_count": 2,
   "id": "4fedda77",
   "metadata": {},
   "outputs": [
    {
     "data": {
      "text/plain": [
       "'My name is Ali'"
      ]
     },
     "execution_count": 2,
     "metadata": {},
     "output_type": "execute_result"
    }
   ],
   "source": [
    "name = \"My name is Ali\"\n",
    "name "
   ]
  },
  {
   "cell_type": "code",
   "execution_count": 3,
   "id": "ee98eba6",
   "metadata": {},
   "outputs": [
    {
     "data": {
      "text/plain": [
       "array([1, 2, 4, 5, 6, 7, 8])"
      ]
     },
     "execution_count": 3,
     "metadata": {},
     "output_type": "execute_result"
    }
   ],
   "source": [
    "import numpy as np\n",
    "x = np.array([1,2,4,5,6,7,8])\n",
    "x"
   ]
  }
 ],
 "metadata": {
  "kernelspec": {
   "display_name": "Python 3 (ipykernel)",
   "language": "python",
   "name": "python3"
  },
  "language_info": {
   "codemirror_mode": {
    "name": "ipython",
    "version": 3
   },
   "file_extension": ".py",
   "mimetype": "text/x-python",
   "name": "python",
   "nbconvert_exporter": "python",
   "pygments_lexer": "ipython3",
   "version": "3.9.12"
  }
 },
 "nbformat": 4,
 "nbformat_minor": 5
}
